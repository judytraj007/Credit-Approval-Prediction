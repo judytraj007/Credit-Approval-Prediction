{
 "cells": [
  {
   "cell_type": "code",
   "execution_count": 1,
   "metadata": {},
   "outputs": [],
   "source": [
    "import pandas as pd\n",
    "import matplotlib.pyplot as plt\n",
    "import seaborn as sns\n",
    "import numpy as np"
   ]
  },
  {
   "cell_type": "markdown",
   "metadata": {},
   "source": [
    "### Read data"
   ]
  },
  {
   "cell_type": "code",
   "execution_count": 2,
   "metadata": {},
   "outputs": [],
   "source": [
    "credit_df = pd.read_csv(\"train.csv\")"
   ]
  },
  {
   "cell_type": "code",
   "execution_count": 3,
   "metadata": {},
   "outputs": [
    {
     "data": {
      "text/html": [
       "<div>\n",
       "<style scoped>\n",
       "    .dataframe tbody tr th:only-of-type {\n",
       "        vertical-align: middle;\n",
       "    }\n",
       "\n",
       "    .dataframe tbody tr th {\n",
       "        vertical-align: top;\n",
       "    }\n",
       "\n",
       "    .dataframe thead th {\n",
       "        text-align: right;\n",
       "    }\n",
       "</style>\n",
       "<table border=\"1\" class=\"dataframe\">\n",
       "  <thead>\n",
       "    <tr style=\"text-align: right;\">\n",
       "      <th></th>\n",
       "      <th>Key</th>\n",
       "      <th>Male</th>\n",
       "      <th>Age</th>\n",
       "      <th>Debt</th>\n",
       "      <th>Married</th>\n",
       "      <th>BankCustomer</th>\n",
       "      <th>EducationLevel</th>\n",
       "      <th>Ethnicity</th>\n",
       "      <th>YearsEmployed</th>\n",
       "      <th>PriorDefault</th>\n",
       "      <th>Employed</th>\n",
       "      <th>CreditScore</th>\n",
       "      <th>DriversLicense</th>\n",
       "      <th>Citizen</th>\n",
       "      <th>ZipCode</th>\n",
       "      <th>Income</th>\n",
       "      <th>Approved</th>\n",
       "    </tr>\n",
       "  </thead>\n",
       "  <tbody>\n",
       "    <tr>\n",
       "      <th>468</th>\n",
       "      <td>469</td>\n",
       "      <td>b</td>\n",
       "      <td>33.5</td>\n",
       "      <td>1.750</td>\n",
       "      <td>u</td>\n",
       "      <td>g</td>\n",
       "      <td>x</td>\n",
       "      <td>h</td>\n",
       "      <td>4.500</td>\n",
       "      <td>t</td>\n",
       "      <td>t</td>\n",
       "      <td>4</td>\n",
       "      <td>t</td>\n",
       "      <td>g</td>\n",
       "      <td>253</td>\n",
       "      <td>857</td>\n",
       "      <td>+</td>\n",
       "    </tr>\n",
       "    <tr>\n",
       "      <th>138</th>\n",
       "      <td>139</td>\n",
       "      <td>b</td>\n",
       "      <td>28.75</td>\n",
       "      <td>1.165</td>\n",
       "      <td>u</td>\n",
       "      <td>g</td>\n",
       "      <td>k</td>\n",
       "      <td>v</td>\n",
       "      <td>0.500</td>\n",
       "      <td>t</td>\n",
       "      <td>f</td>\n",
       "      <td>0</td>\n",
       "      <td>f</td>\n",
       "      <td>s</td>\n",
       "      <td>280</td>\n",
       "      <td>0</td>\n",
       "      <td>-</td>\n",
       "    </tr>\n",
       "    <tr>\n",
       "      <th>295</th>\n",
       "      <td>296</td>\n",
       "      <td>b</td>\n",
       "      <td>23.75</td>\n",
       "      <td>0.415</td>\n",
       "      <td>y</td>\n",
       "      <td>p</td>\n",
       "      <td>c</td>\n",
       "      <td>v</td>\n",
       "      <td>0.040</td>\n",
       "      <td>f</td>\n",
       "      <td>t</td>\n",
       "      <td>2</td>\n",
       "      <td>f</td>\n",
       "      <td>g</td>\n",
       "      <td>128</td>\n",
       "      <td>6</td>\n",
       "      <td>-</td>\n",
       "    </tr>\n",
       "    <tr>\n",
       "      <th>418</th>\n",
       "      <td>419</td>\n",
       "      <td>a</td>\n",
       "      <td>20.67</td>\n",
       "      <td>3.000</td>\n",
       "      <td>u</td>\n",
       "      <td>g</td>\n",
       "      <td>q</td>\n",
       "      <td>v</td>\n",
       "      <td>0.165</td>\n",
       "      <td>t</td>\n",
       "      <td>t</td>\n",
       "      <td>3</td>\n",
       "      <td>f</td>\n",
       "      <td>g</td>\n",
       "      <td>100</td>\n",
       "      <td>6</td>\n",
       "      <td>+</td>\n",
       "    </tr>\n",
       "    <tr>\n",
       "      <th>53</th>\n",
       "      <td>54</td>\n",
       "      <td>a</td>\n",
       "      <td>22.75</td>\n",
       "      <td>6.165</td>\n",
       "      <td>u</td>\n",
       "      <td>g</td>\n",
       "      <td>aa</td>\n",
       "      <td>v</td>\n",
       "      <td>0.165</td>\n",
       "      <td>f</td>\n",
       "      <td>f</td>\n",
       "      <td>0</td>\n",
       "      <td>f</td>\n",
       "      <td>g</td>\n",
       "      <td>220</td>\n",
       "      <td>1000</td>\n",
       "      <td>-</td>\n",
       "    </tr>\n",
       "    <tr>\n",
       "      <th>459</th>\n",
       "      <td>460</td>\n",
       "      <td>a</td>\n",
       "      <td>18.83</td>\n",
       "      <td>9.540</td>\n",
       "      <td>u</td>\n",
       "      <td>g</td>\n",
       "      <td>aa</td>\n",
       "      <td>v</td>\n",
       "      <td>0.085</td>\n",
       "      <td>t</td>\n",
       "      <td>f</td>\n",
       "      <td>0</td>\n",
       "      <td>f</td>\n",
       "      <td>g</td>\n",
       "      <td>100</td>\n",
       "      <td>0</td>\n",
       "      <td>+</td>\n",
       "    </tr>\n",
       "    <tr>\n",
       "      <th>11</th>\n",
       "      <td>12</td>\n",
       "      <td>a</td>\n",
       "      <td>?</td>\n",
       "      <td>3.500</td>\n",
       "      <td>u</td>\n",
       "      <td>g</td>\n",
       "      <td>d</td>\n",
       "      <td>v</td>\n",
       "      <td>3.000</td>\n",
       "      <td>t</td>\n",
       "      <td>f</td>\n",
       "      <td>0</td>\n",
       "      <td>t</td>\n",
       "      <td>g</td>\n",
       "      <td>300</td>\n",
       "      <td>0</td>\n",
       "      <td>-</td>\n",
       "    </tr>\n",
       "    <tr>\n",
       "      <th>396</th>\n",
       "      <td>397</td>\n",
       "      <td>b</td>\n",
       "      <td>27.67</td>\n",
       "      <td>2.000</td>\n",
       "      <td>u</td>\n",
       "      <td>g</td>\n",
       "      <td>x</td>\n",
       "      <td>h</td>\n",
       "      <td>1.000</td>\n",
       "      <td>t</td>\n",
       "      <td>t</td>\n",
       "      <td>4</td>\n",
       "      <td>f</td>\n",
       "      <td>g</td>\n",
       "      <td>140</td>\n",
       "      <td>7544</td>\n",
       "      <td>+</td>\n",
       "    </tr>\n",
       "    <tr>\n",
       "      <th>289</th>\n",
       "      <td>290</td>\n",
       "      <td>b</td>\n",
       "      <td>20.67</td>\n",
       "      <td>0.415</td>\n",
       "      <td>u</td>\n",
       "      <td>g</td>\n",
       "      <td>c</td>\n",
       "      <td>v</td>\n",
       "      <td>0.125</td>\n",
       "      <td>f</td>\n",
       "      <td>f</td>\n",
       "      <td>0</td>\n",
       "      <td>f</td>\n",
       "      <td>g</td>\n",
       "      <td>0</td>\n",
       "      <td>44</td>\n",
       "      <td>-</td>\n",
       "    </tr>\n",
       "    <tr>\n",
       "      <th>449</th>\n",
       "      <td>450</td>\n",
       "      <td>b</td>\n",
       "      <td>23.08</td>\n",
       "      <td>11.500</td>\n",
       "      <td>u</td>\n",
       "      <td>g</td>\n",
       "      <td>i</td>\n",
       "      <td>v</td>\n",
       "      <td>3.500</td>\n",
       "      <td>t</td>\n",
       "      <td>t</td>\n",
       "      <td>9</td>\n",
       "      <td>f</td>\n",
       "      <td>g</td>\n",
       "      <td>56</td>\n",
       "      <td>742</td>\n",
       "      <td>+</td>\n",
       "    </tr>\n",
       "  </tbody>\n",
       "</table>\n",
       "</div>"
      ],
      "text/plain": [
       "     Key Male    Age    Debt Married BankCustomer EducationLevel Ethnicity  \\\n",
       "468  469    b   33.5   1.750       u            g              x         h   \n",
       "138  139    b  28.75   1.165       u            g              k         v   \n",
       "295  296    b  23.75   0.415       y            p              c         v   \n",
       "418  419    a  20.67   3.000       u            g              q         v   \n",
       "53    54    a  22.75   6.165       u            g             aa         v   \n",
       "459  460    a  18.83   9.540       u            g             aa         v   \n",
       "11    12    a      ?   3.500       u            g              d         v   \n",
       "396  397    b  27.67   2.000       u            g              x         h   \n",
       "289  290    b  20.67   0.415       u            g              c         v   \n",
       "449  450    b  23.08  11.500       u            g              i         v   \n",
       "\n",
       "     YearsEmployed PriorDefault Employed  CreditScore DriversLicense Citizen  \\\n",
       "468          4.500            t        t            4              t       g   \n",
       "138          0.500            t        f            0              f       s   \n",
       "295          0.040            f        t            2              f       g   \n",
       "418          0.165            t        t            3              f       g   \n",
       "53           0.165            f        f            0              f       g   \n",
       "459          0.085            t        f            0              f       g   \n",
       "11           3.000            t        f            0              t       g   \n",
       "396          1.000            t        t            4              f       g   \n",
       "289          0.125            f        f            0              f       g   \n",
       "449          3.500            t        t            9              f       g   \n",
       "\n",
       "    ZipCode  Income Approved  \n",
       "468     253     857        +  \n",
       "138     280       0        -  \n",
       "295     128       6        -  \n",
       "418     100       6        +  \n",
       "53      220    1000        -  \n",
       "459     100       0        +  \n",
       "11      300       0        -  \n",
       "396     140    7544        +  \n",
       "289       0      44        -  \n",
       "449      56     742        +  "
      ]
     },
     "execution_count": 3,
     "metadata": {},
     "output_type": "execute_result"
    }
   ],
   "source": [
    "credit_df.sample(10)"
   ]
  },
  {
   "cell_type": "markdown",
   "metadata": {},
   "source": [
    "### Explore and Clean data"
   ]
  },
  {
   "cell_type": "code",
   "execution_count": 4,
   "metadata": {},
   "outputs": [],
   "source": [
    "credit_df = credit_df.drop(\"Key\", axis=1)\n",
    "credit_df = credit_df.drop(\"ZipCode\", axis=1)"
   ]
  },
  {
   "cell_type": "code",
   "execution_count": 5,
   "metadata": {},
   "outputs": [
    {
     "data": {
      "text/plain": [
       "(590, 15)"
      ]
     },
     "execution_count": 5,
     "metadata": {},
     "output_type": "execute_result"
    }
   ],
   "source": [
    "credit_df.shape"
   ]
  },
  {
   "cell_type": "code",
   "execution_count": 6,
   "metadata": {},
   "outputs": [
    {
     "data": {
      "text/plain": [
       "Male               object\n",
       "Age                object\n",
       "Debt              float64\n",
       "Married            object\n",
       "BankCustomer       object\n",
       "EducationLevel     object\n",
       "Ethnicity          object\n",
       "YearsEmployed     float64\n",
       "PriorDefault       object\n",
       "Employed           object\n",
       "CreditScore         int64\n",
       "DriversLicense     object\n",
       "Citizen            object\n",
       "Income              int64\n",
       "Approved           object\n",
       "dtype: object"
      ]
     },
     "execution_count": 6,
     "metadata": {},
     "output_type": "execute_result"
    }
   ],
   "source": [
    "credit_df.dtypes"
   ]
  },
  {
   "cell_type": "code",
   "execution_count": 7,
   "metadata": {},
   "outputs": [
    {
     "data": {
      "text/html": [
       "<div>\n",
       "<style scoped>\n",
       "    .dataframe tbody tr th:only-of-type {\n",
       "        vertical-align: middle;\n",
       "    }\n",
       "\n",
       "    .dataframe tbody tr th {\n",
       "        vertical-align: top;\n",
       "    }\n",
       "\n",
       "    .dataframe thead th {\n",
       "        text-align: right;\n",
       "    }\n",
       "</style>\n",
       "<table border=\"1\" class=\"dataframe\">\n",
       "  <thead>\n",
       "    <tr style=\"text-align: right;\">\n",
       "      <th></th>\n",
       "      <th>Debt</th>\n",
       "      <th>YearsEmployed</th>\n",
       "      <th>CreditScore</th>\n",
       "      <th>Income</th>\n",
       "    </tr>\n",
       "  </thead>\n",
       "  <tbody>\n",
       "    <tr>\n",
       "      <th>count</th>\n",
       "      <td>590.000000</td>\n",
       "      <td>590.000000</td>\n",
       "      <td>590.000000</td>\n",
       "      <td>590.000000</td>\n",
       "    </tr>\n",
       "    <tr>\n",
       "      <th>mean</th>\n",
       "      <td>4.609390</td>\n",
       "      <td>2.088534</td>\n",
       "      <td>2.045763</td>\n",
       "      <td>918.706780</td>\n",
       "    </tr>\n",
       "    <tr>\n",
       "      <th>std</th>\n",
       "      <td>4.849569</td>\n",
       "      <td>3.198681</td>\n",
       "      <td>3.702375</td>\n",
       "      <td>5025.415369</td>\n",
       "    </tr>\n",
       "    <tr>\n",
       "      <th>min</th>\n",
       "      <td>0.000000</td>\n",
       "      <td>0.000000</td>\n",
       "      <td>0.000000</td>\n",
       "      <td>0.000000</td>\n",
       "    </tr>\n",
       "    <tr>\n",
       "      <th>25%</th>\n",
       "      <td>1.000000</td>\n",
       "      <td>0.165000</td>\n",
       "      <td>0.000000</td>\n",
       "      <td>0.000000</td>\n",
       "    </tr>\n",
       "    <tr>\n",
       "      <th>50%</th>\n",
       "      <td>2.710000</td>\n",
       "      <td>1.000000</td>\n",
       "      <td>0.000000</td>\n",
       "      <td>4.000000</td>\n",
       "    </tr>\n",
       "    <tr>\n",
       "      <th>75%</th>\n",
       "      <td>7.000000</td>\n",
       "      <td>2.500000</td>\n",
       "      <td>2.000000</td>\n",
       "      <td>363.000000</td>\n",
       "    </tr>\n",
       "    <tr>\n",
       "      <th>max</th>\n",
       "      <td>26.335000</td>\n",
       "      <td>20.000000</td>\n",
       "      <td>20.000000</td>\n",
       "      <td>100000.000000</td>\n",
       "    </tr>\n",
       "  </tbody>\n",
       "</table>\n",
       "</div>"
      ],
      "text/plain": [
       "             Debt  YearsEmployed  CreditScore         Income\n",
       "count  590.000000     590.000000   590.000000     590.000000\n",
       "mean     4.609390       2.088534     2.045763     918.706780\n",
       "std      4.849569       3.198681     3.702375    5025.415369\n",
       "min      0.000000       0.000000     0.000000       0.000000\n",
       "25%      1.000000       0.165000     0.000000       0.000000\n",
       "50%      2.710000       1.000000     0.000000       4.000000\n",
       "75%      7.000000       2.500000     2.000000     363.000000\n",
       "max     26.335000      20.000000    20.000000  100000.000000"
      ]
     },
     "execution_count": 7,
     "metadata": {},
     "output_type": "execute_result"
    }
   ],
   "source": [
    "credit_df.describe()"
   ]
  },
  {
   "cell_type": "markdown",
   "metadata": {},
   "source": [
    "#### Identifying classes of each categorical variable"
   ]
  },
  {
   "cell_type": "code",
   "execution_count": 8,
   "metadata": {},
   "outputs": [
    {
     "name": "stdout",
     "output_type": "stream",
     "text": [
      "b    400\n",
      "a    179\n",
      "?     11\n",
      "Name: Male, dtype: int64\n",
      "?        12\n",
      "22.67     8\n",
      "20.42     6\n",
      "20.67     6\n",
      "22.5      6\n",
      "18.83     6\n",
      "23.58     6\n",
      "19.17     5\n",
      "24.5      5\n",
      "27.67     5\n",
      "23.08     5\n",
      "25        5\n",
      "24.58     4\n",
      "28.58     4\n",
      "23        4\n",
      "26.17     4\n",
      "33.17     4\n",
      "20        4\n",
      "25.17     4\n",
      "24.75     4\n",
      "32.33     4\n",
      "23.5      4\n",
      "22.08     3\n",
      "21.5      3\n",
      "26.67     3\n",
      "18.17     3\n",
      "28.17     3\n",
      "22.75     3\n",
      "20.5      3\n",
      "41.17     3\n",
      "         ..\n",
      "43.08     1\n",
      "22.33     1\n",
      "41.42     1\n",
      "34.92     1\n",
      "41        1\n",
      "50.08     1\n",
      "31.33     1\n",
      "34.25     1\n",
      "19.75     1\n",
      "30.5      1\n",
      "62.5      1\n",
      "32.08     1\n",
      "32.92     1\n",
      "47.83     1\n",
      "58.42     1\n",
      "17.33     1\n",
      "17.5      1\n",
      "42        1\n",
      "28.33     1\n",
      "59.67     1\n",
      "73.42     1\n",
      "76.75     1\n",
      "35.42     1\n",
      "31.58     1\n",
      "41.75     1\n",
      "21.58     1\n",
      "18.5      1\n",
      "57.58     1\n",
      "36.25     1\n",
      "15.83     1\n",
      "Name: Age, Length: 322, dtype: int64\n",
      "u    434\n",
      "y    148\n",
      "?      6\n",
      "l      2\n",
      "Name: Married, dtype: int64\n",
      "g     434\n",
      "p     148\n",
      "?       6\n",
      "gg      2\n",
      "Name: BankCustomer, dtype: int64\n",
      "c     119\n",
      "q      65\n",
      "i      53\n",
      "w      51\n",
      "aa     50\n",
      "ff     49\n",
      "k      45\n",
      "x      33\n",
      "m      30\n",
      "cc     29\n",
      "d      24\n",
      "e      21\n",
      "j      10\n",
      "?       9\n",
      "r       2\n",
      "Name: EducationLevel, dtype: int64\n",
      "v     341\n",
      "h     104\n",
      "bb     55\n",
      "ff     53\n",
      "?       9\n",
      "j       8\n",
      "z       8\n",
      "dd      6\n",
      "n       4\n",
      "o       2\n",
      "Name: Ethnicity, dtype: int64\n",
      "f    299\n",
      "t    291\n",
      "Name: PriorDefault, dtype: int64\n",
      "f    350\n",
      "t    240\n",
      "Name: Employed, dtype: int64\n",
      "f    327\n",
      "t    263\n",
      "Name: DriversLicense, dtype: int64\n",
      "g    530\n",
      "s     52\n",
      "p      8\n",
      "Name: Citizen, dtype: int64\n",
      "-    358\n",
      "+    232\n",
      "Name: Approved, dtype: int64\n"
     ]
    }
   ],
   "source": [
    "for key in credit_df.columns:\n",
    "    if credit_df[key].dtype == \"object\":\n",
    "        print(credit_df[key].value_counts())\n",
    "        "
   ]
  },
  {
   "cell_type": "markdown",
   "metadata": {},
   "source": [
    "#### Identifying missing values"
   ]
  },
  {
   "cell_type": "code",
   "execution_count": 9,
   "metadata": {},
   "outputs": [],
   "source": [
    "credit_df = credit_df.replace('?', np.nan)"
   ]
  },
  {
   "cell_type": "code",
   "execution_count": 10,
   "metadata": {},
   "outputs": [
    {
     "data": {
      "text/plain": [
       "Male              11\n",
       "Age               12\n",
       "Debt               0\n",
       "Married            6\n",
       "BankCustomer       6\n",
       "EducationLevel     9\n",
       "Ethnicity          9\n",
       "YearsEmployed      0\n",
       "PriorDefault       0\n",
       "Employed           0\n",
       "CreditScore        0\n",
       "DriversLicense     0\n",
       "Citizen            0\n",
       "Income             0\n",
       "Approved           0\n",
       "dtype: int64"
      ]
     },
     "execution_count": 10,
     "metadata": {},
     "output_type": "execute_result"
    }
   ],
   "source": [
    "credit_df.isnull().sum() "
   ]
  },
  {
   "cell_type": "markdown",
   "metadata": {},
   "source": [
    "#### Filling missing values "
   ]
  },
  {
   "cell_type": "code",
   "execution_count": 11,
   "metadata": {},
   "outputs": [],
   "source": [
    "credit_df = credit_df.fillna(method='ffill')"
   ]
  },
  {
   "cell_type": "code",
   "execution_count": 12,
   "metadata": {},
   "outputs": [],
   "source": [
    "credit_df[\"Male\"] = credit_df[\"Male\"].fillna(\"b\")"
   ]
  },
  {
   "cell_type": "code",
   "execution_count": 13,
   "metadata": {},
   "outputs": [],
   "source": [
    "credit_df[\"Age\"] = pd.to_numeric(credit_df[\"Age\"])"
   ]
  },
  {
   "cell_type": "markdown",
   "metadata": {},
   "source": [
    "#### Label encoding categorical variables"
   ]
  },
  {
   "cell_type": "code",
   "execution_count": 14,
   "metadata": {},
   "outputs": [],
   "source": [
    "from sklearn import preprocessing\n",
    "label_encoder = preprocessing.LabelEncoder() "
   ]
  },
  {
   "cell_type": "code",
   "execution_count": 15,
   "metadata": {},
   "outputs": [
    {
     "name": "stdout",
     "output_type": "stream",
     "text": [
      "1    409\n",
      "0    181\n",
      "Name: Male, dtype: int64\n",
      "1    439\n",
      "2    149\n",
      "0      2\n",
      "Name: Married, dtype: int64\n",
      "0    439\n",
      "2    149\n",
      "1      2\n",
      "Name: BankCustomer, dtype: int64\n",
      "1     121\n",
      "10     68\n",
      "12     54\n",
      "6      54\n",
      "0      50\n",
      "5      49\n",
      "8      45\n",
      "13     33\n",
      "9      30\n",
      "2      29\n",
      "3      24\n",
      "4      21\n",
      "7      10\n",
      "11      2\n",
      "Name: EducationLevel, dtype: int64\n",
      "7    345\n",
      "3    106\n",
      "0     56\n",
      "2     53\n",
      "4      9\n",
      "8      8\n",
      "1      6\n",
      "5      5\n",
      "6      2\n",
      "Name: Ethnicity, dtype: int64\n",
      "0    299\n",
      "1    291\n",
      "Name: PriorDefault, dtype: int64\n",
      "0    350\n",
      "1    240\n",
      "Name: Employed, dtype: int64\n",
      "0    327\n",
      "1    263\n",
      "Name: DriversLicense, dtype: int64\n",
      "0    530\n",
      "2     52\n",
      "1      8\n",
      "Name: Citizen, dtype: int64\n",
      "1    358\n",
      "0    232\n",
      "Name: Approved, dtype: int64\n"
     ]
    }
   ],
   "source": [
    "for key in credit_df.columns:\n",
    "    if credit_df[key].dtype == \"object\":\n",
    "        credit_df[key]= label_encoder.fit_transform(credit_df[key]) \n",
    "        credit_df[key].unique() \n",
    "        print(credit_df[key].value_counts())"
   ]
  },
  {
   "cell_type": "code",
   "execution_count": 16,
   "metadata": {},
   "outputs": [
    {
     "data": {
      "text/html": [
       "<div>\n",
       "<style scoped>\n",
       "    .dataframe tbody tr th:only-of-type {\n",
       "        vertical-align: middle;\n",
       "    }\n",
       "\n",
       "    .dataframe tbody tr th {\n",
       "        vertical-align: top;\n",
       "    }\n",
       "\n",
       "    .dataframe thead th {\n",
       "        text-align: right;\n",
       "    }\n",
       "</style>\n",
       "<table border=\"1\" class=\"dataframe\">\n",
       "  <thead>\n",
       "    <tr style=\"text-align: right;\">\n",
       "      <th></th>\n",
       "      <th>Male</th>\n",
       "      <th>Age</th>\n",
       "      <th>Debt</th>\n",
       "      <th>Married</th>\n",
       "      <th>BankCustomer</th>\n",
       "      <th>EducationLevel</th>\n",
       "      <th>Ethnicity</th>\n",
       "      <th>YearsEmployed</th>\n",
       "      <th>PriorDefault</th>\n",
       "      <th>Employed</th>\n",
       "      <th>CreditScore</th>\n",
       "      <th>DriversLicense</th>\n",
       "      <th>Citizen</th>\n",
       "      <th>Income</th>\n",
       "      <th>Approved</th>\n",
       "    </tr>\n",
       "  </thead>\n",
       "  <tbody>\n",
       "    <tr>\n",
       "      <th>249</th>\n",
       "      <td>1</td>\n",
       "      <td>20.42</td>\n",
       "      <td>1.085</td>\n",
       "      <td>1</td>\n",
       "      <td>0</td>\n",
       "      <td>10</td>\n",
       "      <td>7</td>\n",
       "      <td>1.500</td>\n",
       "      <td>0</td>\n",
       "      <td>0</td>\n",
       "      <td>0</td>\n",
       "      <td>0</td>\n",
       "      <td>0</td>\n",
       "      <td>7</td>\n",
       "      <td>1</td>\n",
       "    </tr>\n",
       "    <tr>\n",
       "      <th>571</th>\n",
       "      <td>1</td>\n",
       "      <td>73.42</td>\n",
       "      <td>17.750</td>\n",
       "      <td>1</td>\n",
       "      <td>0</td>\n",
       "      <td>5</td>\n",
       "      <td>2</td>\n",
       "      <td>0.000</td>\n",
       "      <td>1</td>\n",
       "      <td>0</td>\n",
       "      <td>0</td>\n",
       "      <td>1</td>\n",
       "      <td>0</td>\n",
       "      <td>0</td>\n",
       "      <td>0</td>\n",
       "    </tr>\n",
       "    <tr>\n",
       "      <th>108</th>\n",
       "      <td>0</td>\n",
       "      <td>28.58</td>\n",
       "      <td>3.750</td>\n",
       "      <td>1</td>\n",
       "      <td>0</td>\n",
       "      <td>1</td>\n",
       "      <td>7</td>\n",
       "      <td>0.250</td>\n",
       "      <td>0</td>\n",
       "      <td>1</td>\n",
       "      <td>1</td>\n",
       "      <td>1</td>\n",
       "      <td>0</td>\n",
       "      <td>154</td>\n",
       "      <td>1</td>\n",
       "    </tr>\n",
       "    <tr>\n",
       "      <th>158</th>\n",
       "      <td>1</td>\n",
       "      <td>16.25</td>\n",
       "      <td>0.835</td>\n",
       "      <td>1</td>\n",
       "      <td>0</td>\n",
       "      <td>9</td>\n",
       "      <td>7</td>\n",
       "      <td>0.085</td>\n",
       "      <td>1</td>\n",
       "      <td>0</td>\n",
       "      <td>0</td>\n",
       "      <td>0</td>\n",
       "      <td>2</td>\n",
       "      <td>0</td>\n",
       "      <td>1</td>\n",
       "    </tr>\n",
       "    <tr>\n",
       "      <th>133</th>\n",
       "      <td>1</td>\n",
       "      <td>35.25</td>\n",
       "      <td>16.500</td>\n",
       "      <td>2</td>\n",
       "      <td>2</td>\n",
       "      <td>1</td>\n",
       "      <td>7</td>\n",
       "      <td>4.000</td>\n",
       "      <td>1</td>\n",
       "      <td>0</td>\n",
       "      <td>0</td>\n",
       "      <td>0</td>\n",
       "      <td>0</td>\n",
       "      <td>0</td>\n",
       "      <td>1</td>\n",
       "    </tr>\n",
       "  </tbody>\n",
       "</table>\n",
       "</div>"
      ],
      "text/plain": [
       "     Male    Age    Debt  Married  BankCustomer  EducationLevel  Ethnicity  \\\n",
       "249     1  20.42   1.085        1             0              10          7   \n",
       "571     1  73.42  17.750        1             0               5          2   \n",
       "108     0  28.58   3.750        1             0               1          7   \n",
       "158     1  16.25   0.835        1             0               9          7   \n",
       "133     1  35.25  16.500        2             2               1          7   \n",
       "\n",
       "     YearsEmployed  PriorDefault  Employed  CreditScore  DriversLicense  \\\n",
       "249          1.500             0         0            0               0   \n",
       "571          0.000             1         0            0               1   \n",
       "108          0.250             0         1            1               1   \n",
       "158          0.085             1         0            0               0   \n",
       "133          4.000             1         0            0               0   \n",
       "\n",
       "     Citizen  Income  Approved  \n",
       "249        0       7         1  \n",
       "571        0       0         0  \n",
       "108        0     154         1  \n",
       "158        2       0         1  \n",
       "133        0       0         1  "
      ]
     },
     "execution_count": 16,
     "metadata": {},
     "output_type": "execute_result"
    }
   ],
   "source": [
    "credit_df.sample(5)"
   ]
  },
  {
   "cell_type": "markdown",
   "metadata": {},
   "source": [
    "#### Examining correlation"
   ]
  },
  {
   "cell_type": "code",
   "execution_count": 17,
   "metadata": {},
   "outputs": [
    {
     "data": {
      "image/png": "[encoded data removed]",
      "text/plain": [
       "<Figure size 864x720 with 2 Axes>"
      ]
     },
     "metadata": {
      "needs_background": "light"
     },
     "output_type": "display_data"
    }
   ],
   "source": [
    "plt.figure(figsize=(12,10))\n",
    "corr = credit_df.corr()\n",
    "sns.heatmap(corr, annot=True, cmap=plt.cm.Reds)\n",
    "plt.show()"
   ]
  },
  {
   "cell_type": "code",
   "execution_count": 18,
   "metadata": {},
   "outputs": [],
   "source": [
    "X = credit_df.drop(\"Approved\", axis=1)\n",
    "Y = credit_df[\"Approved\"]"
   ]
  },
  {
   "cell_type": "code",
   "execution_count": 19,
   "metadata": {},
   "outputs": [],
   "source": [
    "from sklearn.model_selection import train_test_split\n",
    "\n",
    "x_train, x_test, y_train, y_test = train_test_split(X, Y, test_size = 0.1)"
   ]
  },
  {
   "cell_type": "code",
   "execution_count": 20,
   "metadata": {},
   "outputs": [
    {
     "name": "stdout",
     "output_type": "stream",
     "text": [
      "(531, 14)\n",
      "(59, 14)\n",
      "(531,)\n",
      "(59,)\n"
     ]
    }
   ],
   "source": [
    "print(x_train.shape)\n",
    "print(x_test.shape)\n",
    "print(y_train.shape)\n",
    "print(y_test.shape)"
   ]
  },
  {
   "cell_type": "markdown",
   "metadata": {},
   "source": [
    "#### Convert data into tensors"
   ]
  },
  {
   "cell_type": "code",
   "execution_count": 21,
   "metadata": {},
   "outputs": [],
   "source": [
    "import torch\n",
    "import torch.nn as nn\n",
    "from torch.nn import functional as F"
   ]
  },
  {
   "cell_type": "code",
   "execution_count": 22,
   "metadata": {},
   "outputs": [],
   "source": [
    "Xtrain_ = torch.from_numpy(x_train.values).float()\n",
    "Xtest_ = torch.from_numpy(x_test.values).float()"
   ]
  },
  {
   "cell_type": "code",
   "execution_count": 23,
   "metadata": {},
   "outputs": [
    {
     "data": {
      "text/plain": [
       "torch.Size([531, 14])"
      ]
     },
     "execution_count": 23,
     "metadata": {},
     "output_type": "execute_result"
    }
   ],
   "source": [
    "Xtrain_.shape"
   ]
  },
  {
   "cell_type": "markdown",
   "metadata": {},
   "source": [
    "Y parameters have shape 531 X 1 but we need those in shape 1 X 531<br>\n",
    "Our loss function doesnt support multi-target, our target should be 1D Tensor\n",
    "i.e 1 row containing all the labels<br>"
   ]
  },
  {
   "cell_type": "code",
   "execution_count": 24,
   "metadata": {},
   "outputs": [],
   "source": [
    "Ytrain_ = torch.from_numpy(y_train.values).view(1,-1)[0]\n",
    "Ytest_ = torch.from_numpy(y_test.values).view(1,-1)[0]"
   ]
  },
  {
   "cell_type": "code",
   "execution_count": 25,
   "metadata": {},
   "outputs": [
    {
     "data": {
      "text/plain": [
       "torch.Size([531])"
      ]
     },
     "execution_count": 25,
     "metadata": {},
     "output_type": "execute_result"
    }
   ],
   "source": [
    "Ytrain_.shape"
   ]
  },
  {
   "cell_type": "markdown",
   "metadata": {},
   "source": [
    "## Creating a classifier\n"
   ]
  },
  {
   "cell_type": "markdown",
   "metadata": {},
   "source": [
    "we have 14 features therefore input size is 14 and we want 2 discrete outputs "
   ]
  },
  {
   "cell_type": "code",
   "execution_count": 26,
   "metadata": {},
   "outputs": [],
   "source": [
    "input_size = 14\n",
    "output_size = 2\n",
    "hidden_size = 200"
   ]
  },
  {
   "cell_type": "markdown",
   "metadata": {},
   "source": [
    "#### Define a neural network class from which to create our model\n",
    "\n",
    "We create a class named Net which inherits nn.Module(Base class for all neural network modules.)<br>\n",
    "\n",
    "<b>super :</b> This is calling the \\__init__() method of the parent class(nn.Module)\n",
    "\n",
    "<b>fc1 to fc3 :</b>  Applies a linear transformation to the incoming data: y=Wx+b<br>\n",
    "Parameters :<br>\n",
    "in_features – size of each input sample<br>\n",
    "out_features – size of each output sample<br>\n",
    "bias – If set to False, the layer will not learn an additive bias. Default: True<br>\n",
    "\n",
    "<b>Sigmoid : </b>Applies the element-wise function Sigmoid(x)= 1 / (1+exp(−x))\n",
    "\n",
    "<b>log_softmax :</b>\n",
    "Softmax applies the Softmax() function to an n-dimensional input Tensor rescaling them so that the elements of the n-dimensional output Tensor lie in the range (0,1) and sum to 1<br>\n",
    "While mathematically equivalent to log(softmax(x)), doing these two operations separately is slower, and numerically unstable. This function uses an alternative formulation to compute the output and gradient correctly.<br>\n",
    "Parameters:<br>\n",
    "dim(int) – A dimension along which Softmax will be computed (so every slice along dim will sum to 1).\n"
   ]
  },
  {
   "cell_type": "code",
   "execution_count": 27,
   "metadata": {},
   "outputs": [],
   "source": [
    "class Net(nn.Module):\n",
    "    \n",
    "    def __init__(self):\n",
    "        super(Net, self).__init__()\n",
    "        self.fc1 = nn.Linear(input_size, hidden_size)\n",
    "        self.fc2 = nn.Linear(hidden_size, hidden_size)\n",
    "        self.fc3 = nn.Linear(hidden_size, output_size)\n",
    "\n",
    "    def forward(self, X):\n",
    "        X = torch.sigmoid((self.fc1(X)))\n",
    "        X = torch.sigmoid(self.fc2(X))\n",
    "        X = self.fc3(X)\n",
    "\n",
    "        return F.log_softmax(X, dim=-1)"
   ]
  },
  {
   "cell_type": "code",
   "execution_count": 28,
   "metadata": {},
   "outputs": [],
   "source": [
    "model = Net()"
   ]
  },
  {
   "cell_type": "markdown",
   "metadata": {},
   "source": [
    "#### Defining optimizer and loss function"
   ]
  },
  {
   "cell_type": "code",
   "execution_count": 29,
   "metadata": {},
   "outputs": [],
   "source": [
    "import torch.optim as optim\n",
    "\n",
    "optimizer = optim.Adam(model.parameters(), lr = 0.0001)\n",
    "\n",
    "loss_fn = nn.CrossEntropyLoss()"
   ]
  },
  {
   "cell_type": "markdown",
   "metadata": {},
   "source": [
    "#### Training the model"
   ]
  },
  {
   "cell_type": "markdown",
   "metadata": {},
   "source": [
    "Optimizer.zero_grad:\n",
    "* Before the backward pass, use the optimizer object to zero all of the gradients for the variables it will update (which are the learnable weights of the model)\n",
    "\n",
    "Foward Pass:\n",
    "* Predicting Y with input data X\n",
    "\n",
    "Finding training Loss:\n",
    "* Finding difference between Y_train_tensor and Y_pred using NLLLoss() function defined above\n",
    "\n",
    "\n",
    "Back Propogation:\n",
    "* back propogation is done by simply loss.backward() function\n"
   ]
  },
  {
   "cell_type": "code",
   "execution_count": 30,
   "metadata": {},
   "outputs": [
    {
     "name": "stdout",
     "output_type": "stream",
     "text": [
      "Epoch 0 loss 0.7017576098442078\n",
      "Epoch 100 loss 0.6150962710380554\n",
      "Epoch 200 loss 0.5854577422142029\n",
      "Epoch 300 loss 0.5373319387435913\n",
      "Epoch 400 loss 0.49198633432388306\n",
      "Epoch 500 loss 0.45522961020469666\n",
      "Epoch 600 loss 0.42511364817619324\n",
      "Epoch 700 loss 0.39892876148223877\n",
      "Epoch 800 loss 0.37177708745002747\n",
      "Epoch 900 loss 0.3441428542137146\n",
      "Epoch 1000 loss 0.31594356894493103\n",
      "Epoch 1100 loss 0.2884044945240021\n",
      "Epoch 1200 loss 0.2633894383907318\n",
      "Epoch 1300 loss 0.23971422016620636\n",
      "Epoch 1400 loss 0.2173154503107071\n",
      "Epoch 1500 loss 0.1958729326725006\n",
      "Epoch 1600 loss 0.17526063323020935\n",
      "Epoch 1700 loss 0.15549084544181824\n",
      "Epoch 1800 loss 0.13835634291172028\n",
      "Epoch 1900 loss 0.12259595096111298\n",
      "Epoch 2000 loss 0.10775220394134521\n",
      "Epoch 2100 loss 0.09382297843694687\n",
      "Epoch 2200 loss 0.08102191239595413\n",
      "Epoch 2300 loss 0.0690966323018074\n",
      "Epoch 2400 loss 0.0588105246424675\n",
      "Epoch 2500 loss 0.049839168787002563\n",
      "Epoch 2600 loss 0.04212988540530205\n",
      "Epoch 2700 loss 0.03558691218495369\n",
      "Epoch 2800 loss 0.03009812720119953\n",
      "Epoch 2900 loss 0.025536485016345978\n",
      "Epoch 3000 loss 0.021764280274510384\n",
      "Epoch 3100 loss 0.018668441101908684\n",
      "Epoch 3200 loss 0.01612607203423977\n",
      "Epoch 3300 loss 0.014028235338628292\n",
      "Epoch 3400 loss 0.01228850707411766\n"
     ]
    }
   ],
   "source": [
    "epochs = 3500\n",
    "\n",
    "for epoch in range(epochs):\n",
    "\n",
    "    optimizer.zero_grad()\n",
    "    Ypred = model(Xtrain_)\n",
    "\n",
    "    loss = loss_fn(Ypred , Ytrain_)\n",
    "    loss.backward()\n",
    "\n",
    "    optimizer.step()\n",
    "        \n",
    "    if epoch % 100 == 0:\n",
    "        print ('Epoch', epoch, 'loss', loss.item())"
   ]
  },
  {
   "cell_type": "code",
   "execution_count": 31,
   "metadata": {},
   "outputs": [
    {
     "data": {
      "text/plain": [
       "Net(\n",
       "  (fc1): Linear(in_features=14, out_features=200, bias=True)\n",
       "  (fc2): Linear(in_features=200, out_features=200, bias=True)\n",
       "  (fc3): Linear(in_features=200, out_features=2, bias=True)\n",
       ")"
      ]
     },
     "execution_count": 31,
     "metadata": {},
     "output_type": "execute_result"
    }
   ],
   "source": [
    "model.eval()"
   ]
  },
  {
   "cell_type": "code",
   "execution_count": 32,
   "metadata": {},
   "outputs": [],
   "source": [
    "predict_out = model(Xtest_)\n",
    "_, predict_y = torch.max(predict_out, 1)"
   ]
  },
  {
   "cell_type": "code",
   "execution_count": 33,
   "metadata": {},
   "outputs": [
    {
     "name": "stdout",
     "output_type": "stream",
     "text": [
      "prediction accuracy 0.8983050847457628\n",
      "precision 0.8837209302325582\n",
      "recall 0.9743589743589743\n",
      "f1_score 0.9268292682926831\n"
     ]
    }
   ],
   "source": [
    "from sklearn.metrics import accuracy_score, precision_score, recall_score, f1_score\n",
    "\n",
    "print ('prediction accuracy', accuracy_score(Ytest_.data, predict_y.data))\n",
    "print ('precision', precision_score(Ytest_.data, predict_y.data))\n",
    "print ('recall', recall_score(Ytest_.data, predict_y.data))\n",
    "print ('f1_score',f1_score(Ytest_.data, predict_y.data))\n"
   ]
  },
  {
   "cell_type": "markdown",
   "metadata": {},
   "source": [
    "#### Test the model on new data"
   ]
  },
  {
   "cell_type": "code",
   "execution_count": 34,
   "metadata": {},
   "outputs": [],
   "source": [
    "df = pd.read_csv(\"test.csv\")"
   ]
  },
  {
   "cell_type": "code",
   "execution_count": 35,
   "metadata": {},
   "outputs": [
    {
     "data": {
      "text/html": [
       "<div>\n",
       "<style scoped>\n",
       "    .dataframe tbody tr th:only-of-type {\n",
       "        vertical-align: middle;\n",
       "    }\n",
       "\n",
       "    .dataframe tbody tr th {\n",
       "        vertical-align: top;\n",
       "    }\n",
       "\n",
       "    .dataframe thead th {\n",
       "        text-align: right;\n",
       "    }\n",
       "</style>\n",
       "<table border=\"1\" class=\"dataframe\">\n",
       "  <thead>\n",
       "    <tr style=\"text-align: right;\">\n",
       "      <th></th>\n",
       "      <th>Key</th>\n",
       "      <th>Male</th>\n",
       "      <th>Age</th>\n",
       "      <th>Debt</th>\n",
       "      <th>Married</th>\n",
       "      <th>BankCustomer</th>\n",
       "      <th>EducationLevel</th>\n",
       "      <th>Ethnicity</th>\n",
       "      <th>YearsEmployed</th>\n",
       "      <th>PriorDefault</th>\n",
       "      <th>Employed</th>\n",
       "      <th>CreditScore</th>\n",
       "      <th>DriversLicense</th>\n",
       "      <th>Citizen</th>\n",
       "      <th>ZipCode</th>\n",
       "      <th>Income</th>\n",
       "    </tr>\n",
       "  </thead>\n",
       "  <tbody>\n",
       "    <tr>\n",
       "      <th>34</th>\n",
       "      <td>35</td>\n",
       "      <td>b</td>\n",
       "      <td>42.50</td>\n",
       "      <td>4.915</td>\n",
       "      <td>y</td>\n",
       "      <td>p</td>\n",
       "      <td>w</td>\n",
       "      <td>v</td>\n",
       "      <td>3.165</td>\n",
       "      <td>t</td>\n",
       "      <td>f</td>\n",
       "      <td>0</td>\n",
       "      <td>t</td>\n",
       "      <td>g</td>\n",
       "      <td>52</td>\n",
       "      <td>1442</td>\n",
       "    </tr>\n",
       "    <tr>\n",
       "      <th>69</th>\n",
       "      <td>70</td>\n",
       "      <td>b</td>\n",
       "      <td>56.42</td>\n",
       "      <td>28.000</td>\n",
       "      <td>y</td>\n",
       "      <td>p</td>\n",
       "      <td>c</td>\n",
       "      <td>v</td>\n",
       "      <td>28.500</td>\n",
       "      <td>t</td>\n",
       "      <td>t</td>\n",
       "      <td>40</td>\n",
       "      <td>f</td>\n",
       "      <td>g</td>\n",
       "      <td>0</td>\n",
       "      <td>15</td>\n",
       "    </tr>\n",
       "    <tr>\n",
       "      <th>99</th>\n",
       "      <td>100</td>\n",
       "      <td>b</td>\n",
       "      <td>25.67</td>\n",
       "      <td>12.500</td>\n",
       "      <td>u</td>\n",
       "      <td>g</td>\n",
       "      <td>cc</td>\n",
       "      <td>v</td>\n",
       "      <td>1.210</td>\n",
       "      <td>t</td>\n",
       "      <td>t</td>\n",
       "      <td>67</td>\n",
       "      <td>t</td>\n",
       "      <td>g</td>\n",
       "      <td>140</td>\n",
       "      <td>258</td>\n",
       "    </tr>\n",
       "    <tr>\n",
       "      <th>3</th>\n",
       "      <td>4</td>\n",
       "      <td>b</td>\n",
       "      <td>30.33</td>\n",
       "      <td>0.500</td>\n",
       "      <td>u</td>\n",
       "      <td>g</td>\n",
       "      <td>d</td>\n",
       "      <td>h</td>\n",
       "      <td>0.085</td>\n",
       "      <td>f</td>\n",
       "      <td>f</td>\n",
       "      <td>0</td>\n",
       "      <td>t</td>\n",
       "      <td>s</td>\n",
       "      <td>252</td>\n",
       "      <td>0</td>\n",
       "    </tr>\n",
       "    <tr>\n",
       "      <th>45</th>\n",
       "      <td>46</td>\n",
       "      <td>b</td>\n",
       "      <td>25.00</td>\n",
       "      <td>11.250</td>\n",
       "      <td>u</td>\n",
       "      <td>g</td>\n",
       "      <td>c</td>\n",
       "      <td>v</td>\n",
       "      <td>2.500</td>\n",
       "      <td>t</td>\n",
       "      <td>t</td>\n",
       "      <td>17</td>\n",
       "      <td>f</td>\n",
       "      <td>g</td>\n",
       "      <td>200</td>\n",
       "      <td>1208</td>\n",
       "    </tr>\n",
       "  </tbody>\n",
       "</table>\n",
       "</div>"
      ],
      "text/plain": [
       "    Key Male    Age    Debt Married BankCustomer EducationLevel Ethnicity  \\\n",
       "34   35    b  42.50   4.915       y            p              w         v   \n",
       "69   70    b  56.42  28.000       y            p              c         v   \n",
       "99  100    b  25.67  12.500       u            g             cc         v   \n",
       "3     4    b  30.33   0.500       u            g              d         h   \n",
       "45   46    b  25.00  11.250       u            g              c         v   \n",
       "\n",
       "    YearsEmployed PriorDefault Employed  CreditScore DriversLicense Citizen  \\\n",
       "34          3.165            t        f            0              t       g   \n",
       "69         28.500            t        t           40              f       g   \n",
       "99          1.210            t        t           67              t       g   \n",
       "3           0.085            f        f            0              t       s   \n",
       "45          2.500            t        t           17              f       g   \n",
       "\n",
       "    ZipCode  Income  \n",
       "34       52    1442  \n",
       "69        0      15  \n",
       "99      140     258  \n",
       "3       252       0  \n",
       "45      200    1208  "
      ]
     },
     "execution_count": 35,
     "metadata": {},
     "output_type": "execute_result"
    }
   ],
   "source": [
    "df.sample(5)"
   ]
  },
  {
   "cell_type": "code",
   "execution_count": 36,
   "metadata": {},
   "outputs": [],
   "source": [
    "test_df = df.drop(\"Key\", axis=1)\n",
    "test_df = test_df.drop(\"ZipCode\", axis=1)"
   ]
  },
  {
   "cell_type": "code",
   "execution_count": 37,
   "metadata": {},
   "outputs": [],
   "source": [
    "test_df = test_df.replace('?', np.nan)\n",
    "\n",
    "test_df.isnull().sum() \n",
    "\n",
    "test_df = test_df.fillna(method='ffill')"
   ]
  },
  {
   "cell_type": "code",
   "execution_count": 38,
   "metadata": {},
   "outputs": [],
   "source": [
    "for key in test_df.columns:\n",
    "    if test_df[key].dtype == \"object\":\n",
    "        test_df[key]= label_encoder.fit_transform(test_df[key]) \n",
    "        test_df[key].unique() "
   ]
  },
  {
   "cell_type": "code",
   "execution_count": 39,
   "metadata": {},
   "outputs": [],
   "source": [
    "test_ = torch.from_numpy(test_df.values).float()"
   ]
  },
  {
   "cell_type": "code",
   "execution_count": 40,
   "metadata": {},
   "outputs": [],
   "source": [
    "predict_out = model(test_)\n",
    "_, predict_y = torch.max(predict_out, 1)"
   ]
  },
  {
   "cell_type": "markdown",
   "metadata": {},
   "source": [
    "### 0 means approved and 1 means denied."
   ]
  },
  {
   "cell_type": "code",
   "execution_count": 41,
   "metadata": {},
   "outputs": [],
   "source": [
    "y = predict_y.numpy()"
   ]
  },
  {
   "cell_type": "code",
   "execution_count": 42,
   "metadata": {},
   "outputs": [],
   "source": [
    "d = {'Key': df['Key'], 'Approved': y}\n",
    "result = pd.DataFrame(data=d)"
   ]
  },
  {
   "cell_type": "code",
   "execution_count": 43,
   "metadata": {},
   "outputs": [],
   "source": [
    "result.to_csv(\"submission\", index=False)"
   ]
  },
  {
   "cell_type": "code",
   "execution_count": null,
   "metadata": {},
   "outputs": [],
   "source": []
  },
  {
   "cell_type": "code",
   "execution_count": null,
   "metadata": {},
   "outputs": [],
   "source": []
  }
 ],
 "metadata": {
  "kernelspec": {
   "display_name": "Python 3",
   "language": "python",
   "name": "python3"
  },
  "language_info": {
   "codemirror_mode": {
    "name": "ipython",
    "version": 3
   },
   "file_extension": ".py",
   "mimetype": "text/x-python",
   "name": "python",
   "nbconvert_exporter": "python",
   "pygments_lexer": "ipython3",
   "version": "3.7.3"
  }
 },
 "nbformat": 4,
 "nbformat_minor": 2
}
